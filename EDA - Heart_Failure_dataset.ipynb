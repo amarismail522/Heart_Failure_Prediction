{
 "cells": [
  {
   "cell_type": "markdown",
   "id": "2970cd46",
   "metadata": {},
   "source": [
    "# EDA for Heart Failure dataset"
   ]
  },
  {
   "cell_type": "markdown",
   "id": "dbbaa656",
   "metadata": {},
   "source": [
    "### Content"
   ]
  },
  {
   "cell_type": "markdown",
   "id": "5a36f150",
   "metadata": {},
   "source": [
    "- About Dataset - Source, What it contains, How it will be useful.\n",
    "- Importing Libraries / Datasets\n",
    "- Segregating Dataset\n",
    "- Preliminary Investigation of Data\n",
    "- About Target Variable\n",
    "- Domain Knowledge\n",
    "- About Categorical Variables\n",
    "- Descriptive Statistics\n",
    "- Missing Values\n",
    "- Duplicate Values\n",
    "Imbalanced - ness of Target Variable\n",
    "Distribution, Skewness\n",
    "Variance / Standard Deviation\n",
    "Outliers & Anomalies\n",
    "Detailed Insights (variable - wise)\n",
    "Insights from Bi - Variate Analysis\n",
    "Important Insights\n",
    "Data Pre Processing Checklist"
   ]
  },
  {
   "cell_type": "code",
   "execution_count": null,
   "id": "addbb238",
   "metadata": {},
   "outputs": [],
   "source": []
  }
 ],
 "metadata": {
  "kernelspec": {
   "display_name": "Python 3 (ipykernel)",
   "language": "python",
   "name": "python3"
  },
  "language_info": {
   "codemirror_mode": {
    "name": "ipython",
    "version": 3
   },
   "file_extension": ".py",
   "mimetype": "text/x-python",
   "name": "python",
   "nbconvert_exporter": "python",
   "pygments_lexer": "ipython3",
   "version": "3.9.12"
  }
 },
 "nbformat": 4,
 "nbformat_minor": 5
}
